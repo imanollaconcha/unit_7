{
 "cells": [
  {
   "cell_type": "code",
   "execution_count": 128,
   "id": "lightweight-transmission",
   "metadata": {},
   "outputs": [],
   "source": [
    "# Getting all the libraries.\n",
    "import pandas as pd\n",
    "import numpy as np\n",
    "import matplotlib.pyplot as plt\n",
    "import seaborn as sns"
   ]
  },
  {
   "cell_type": "code",
   "execution_count": 129,
   "id": "average-november",
   "metadata": {
    "scrolled": true
   },
   "outputs": [
    {
     "name": "stderr",
     "output_type": "stream",
     "text": [
      "/usr/local/Cellar/jupyterlab/3.0.9/libexec/lib/python3.9/site-packages/IPython/core/interactiveshell.py:3155: DtypeWarning: Columns (8) have mixed types.Specify dtype option on import or set low_memory=False.\n",
      "  has_raised = await self.run_ast_nodes(code_ast.body, cell_name,\n"
     ]
    },
    {
     "name": "stdout",
     "output_type": "stream",
     "text": [
      "(95412, 481)\n"
     ]
    },
    {
     "data": {
      "text/html": [
       "<div>\n",
       "<style scoped>\n",
       "    .dataframe tbody tr th:only-of-type {\n",
       "        vertical-align: middle;\n",
       "    }\n",
       "\n",
       "    .dataframe tbody tr th {\n",
       "        vertical-align: top;\n",
       "    }\n",
       "\n",
       "    .dataframe thead th {\n",
       "        text-align: right;\n",
       "    }\n",
       "</style>\n",
       "<table border=\"1\" class=\"dataframe\">\n",
       "  <thead>\n",
       "    <tr style=\"text-align: right;\">\n",
       "      <th></th>\n",
       "      <th>ODATEDW</th>\n",
       "      <th>OSOURCE</th>\n",
       "      <th>TCODE</th>\n",
       "      <th>STATE</th>\n",
       "      <th>ZIP</th>\n",
       "      <th>MAILCODE</th>\n",
       "      <th>PVASTATE</th>\n",
       "      <th>DOB</th>\n",
       "      <th>NOEXCH</th>\n",
       "      <th>RECINHSE</th>\n",
       "      <th>...</th>\n",
       "      <th>TARGET_D</th>\n",
       "      <th>HPHONE_D</th>\n",
       "      <th>RFA_2R</th>\n",
       "      <th>RFA_2F</th>\n",
       "      <th>RFA_2A</th>\n",
       "      <th>MDMAUD_R</th>\n",
       "      <th>MDMAUD_F</th>\n",
       "      <th>MDMAUD_A</th>\n",
       "      <th>CLUSTER2</th>\n",
       "      <th>GEOCODE2</th>\n",
       "    </tr>\n",
       "  </thead>\n",
       "  <tbody>\n",
       "    <tr>\n",
       "      <th>0</th>\n",
       "      <td>8901</td>\n",
       "      <td>GRI</td>\n",
       "      <td>0</td>\n",
       "      <td>IL</td>\n",
       "      <td>61081</td>\n",
       "      <td></td>\n",
       "      <td></td>\n",
       "      <td>3712</td>\n",
       "      <td>0</td>\n",
       "      <td></td>\n",
       "      <td>...</td>\n",
       "      <td>0.0</td>\n",
       "      <td>0</td>\n",
       "      <td>L</td>\n",
       "      <td>4</td>\n",
       "      <td>E</td>\n",
       "      <td>X</td>\n",
       "      <td>X</td>\n",
       "      <td>X</td>\n",
       "      <td>39.0</td>\n",
       "      <td>C</td>\n",
       "    </tr>\n",
       "    <tr>\n",
       "      <th>1</th>\n",
       "      <td>9401</td>\n",
       "      <td>BOA</td>\n",
       "      <td>1</td>\n",
       "      <td>CA</td>\n",
       "      <td>91326</td>\n",
       "      <td></td>\n",
       "      <td></td>\n",
       "      <td>5202</td>\n",
       "      <td>0</td>\n",
       "      <td></td>\n",
       "      <td>...</td>\n",
       "      <td>0.0</td>\n",
       "      <td>0</td>\n",
       "      <td>L</td>\n",
       "      <td>2</td>\n",
       "      <td>G</td>\n",
       "      <td>X</td>\n",
       "      <td>X</td>\n",
       "      <td>X</td>\n",
       "      <td>1.0</td>\n",
       "      <td>A</td>\n",
       "    </tr>\n",
       "    <tr>\n",
       "      <th>2</th>\n",
       "      <td>9001</td>\n",
       "      <td>AMH</td>\n",
       "      <td>1</td>\n",
       "      <td>NC</td>\n",
       "      <td>27017</td>\n",
       "      <td></td>\n",
       "      <td></td>\n",
       "      <td>0</td>\n",
       "      <td>0</td>\n",
       "      <td></td>\n",
       "      <td>...</td>\n",
       "      <td>0.0</td>\n",
       "      <td>1</td>\n",
       "      <td>L</td>\n",
       "      <td>4</td>\n",
       "      <td>E</td>\n",
       "      <td>X</td>\n",
       "      <td>X</td>\n",
       "      <td>X</td>\n",
       "      <td>60.0</td>\n",
       "      <td>C</td>\n",
       "    </tr>\n",
       "  </tbody>\n",
       "</table>\n",
       "<p>3 rows × 481 columns</p>\n",
       "</div>"
      ],
      "text/plain": [
       "   ODATEDW OSOURCE  TCODE STATE    ZIP MAILCODE PVASTATE   DOB NOEXCH  \\\n",
       "0     8901     GRI      0    IL  61081                    3712      0   \n",
       "1     9401     BOA      1    CA  91326                    5202      0   \n",
       "2     9001     AMH      1    NC  27017                       0      0   \n",
       "\n",
       "  RECINHSE  ... TARGET_D HPHONE_D RFA_2R RFA_2F RFA_2A MDMAUD_R  MDMAUD_F  \\\n",
       "0           ...      0.0        0      L      4      E        X         X   \n",
       "1           ...      0.0        0      L      2      G        X         X   \n",
       "2           ...      0.0        1      L      4      E        X         X   \n",
       "\n",
       "  MDMAUD_A CLUSTER2 GEOCODE2  \n",
       "0        X     39.0        C  \n",
       "1        X      1.0        A  \n",
       "2        X     60.0        C  \n",
       "\n",
       "[3 rows x 481 columns]"
      ]
     },
     "execution_count": 129,
     "metadata": {},
     "output_type": "execute_result"
    }
   ],
   "source": [
    "# Uploading the data frame\n",
    "data = pd.read_csv('files_for_lab/learningSet.csv')\n",
    "print(data.shape)\n",
    "data.head(3)"
   ]
  },
  {
   "cell_type": "markdown",
   "id": "ceramic-ribbon",
   "metadata": {},
   "source": [
    "### To split the columns"
   ]
  },
  {
   "cell_type": "code",
   "execution_count": 130,
   "id": "upset-margin",
   "metadata": {},
   "outputs": [],
   "source": [
    "Y = data[['TARGET_B', 'TARGET_D']]\n",
    "numerical = data.select_dtypes(np.number)\n",
    "categorical = data.select_dtypes(object)"
   ]
  },
  {
   "cell_type": "code",
   "execution_count": 131,
   "id": "waiting-worry",
   "metadata": {},
   "outputs": [],
   "source": [
    "#Replace all white space for Nan values.\n",
    "categorical = categorical.apply(lambda x: x.replace(\" \", np.NaN))\n",
    "\n",
    "# 1. Check for null values in all the columns\n",
    "nulls_percent_df = pd.DataFrame(categorical.isna().sum()/len(data)).reset_index()\n",
    "nulls_percent_df.columns = ['column_name', 'nulls_percentage']\n",
    "\n",
    "# 2. Create a new empty\n",
    "drop_list = ['OSOURCE','ZIP']\n",
    "\n",
    "# 3. Identify columns that over 85% missing values\n",
    "columns_drop = list(nulls_percent_df[nulls_percent_df['nulls_percentage']>0.85]['column_name'])\n",
    "\n",
    "for column in drop_list:\n",
    "    columns_drop.append(column)\n",
    "\n",
    "# 4. Remove those columns from the dataframe\n",
    "categorical = categorical.drop(columns_drop, axis=1)\n",
    "\n",
    "# 5. Reduce the number of categories in the column GENDER\n",
    "\n",
    "categorical['GENDER'] = categorical['GENDER'].fillna('F')\n",
    "\n",
    "# Define a fuction to clean gender column.\n",
    "def gender_clean(gender):\n",
    "    if (gender == 'U') or (gender == 'J') or (gender == 'A') or (gender == 'C'):\n",
    "        return 'other'\n",
    "    else:\n",
    "        return gender \n",
    "\n",
    "categorical['GENDER'] = list(map(gender_clean,categorical['GENDER']))"
   ]
  },
  {
   "cell_type": "markdown",
   "id": "extreme-fourth",
   "metadata": {},
   "source": [
    "## 1. Check for null values in all the columns"
   ]
  },
  {
   "cell_type": "code",
   "execution_count": 132,
   "id": "beginning-alfred",
   "metadata": {},
   "outputs": [
    {
     "data": {
      "text/html": [
       "<div>\n",
       "<style scoped>\n",
       "    .dataframe tbody tr th:only-of-type {\n",
       "        vertical-align: middle;\n",
       "    }\n",
       "\n",
       "    .dataframe tbody tr th {\n",
       "        vertical-align: top;\n",
       "    }\n",
       "\n",
       "    .dataframe thead th {\n",
       "        text-align: right;\n",
       "    }\n",
       "</style>\n",
       "<table border=\"1\" class=\"dataframe\">\n",
       "  <thead>\n",
       "    <tr style=\"text-align: right;\">\n",
       "      <th></th>\n",
       "      <th>column_name</th>\n",
       "      <th>nulls_percentage</th>\n",
       "    </tr>\n",
       "  </thead>\n",
       "  <tbody>\n",
       "    <tr>\n",
       "      <th>0</th>\n",
       "      <td>ODATEDW</td>\n",
       "      <td>0.0</td>\n",
       "    </tr>\n",
       "    <tr>\n",
       "      <th>1</th>\n",
       "      <td>TCODE</td>\n",
       "      <td>0.0</td>\n",
       "    </tr>\n",
       "    <tr>\n",
       "      <th>2</th>\n",
       "      <td>DOB</td>\n",
       "      <td>0.0</td>\n",
       "    </tr>\n",
       "  </tbody>\n",
       "</table>\n",
       "</div>"
      ],
      "text/plain": [
       "  column_name  nulls_percentage\n",
       "0     ODATEDW               0.0\n",
       "1       TCODE               0.0\n",
       "2         DOB               0.0"
      ]
     },
     "execution_count": 132,
     "metadata": {},
     "output_type": "execute_result"
    }
   ],
   "source": [
    "nulls_percent_df = pd.DataFrame(numerical.isna().sum()/len(data)).reset_index()\n",
    "nulls_percent_df.columns = ['column_name', 'nulls_percentage']\n",
    "nulls_percent_df.head(3)"
   ]
  },
  {
   "cell_type": "markdown",
   "id": "seeing-antigua",
   "metadata": {},
   "source": [
    "## 2. Use appropriate methods to clean the columns GEOCODE2, WEALTH1, ADI, DMA,and MSA."
   ]
  },
  {
   "cell_type": "markdown",
   "id": "outer-smith",
   "metadata": {},
   "source": [
    "### 2.1 GEOCODE2 cleaning."
   ]
  },
  {
   "cell_type": "code",
   "execution_count": 133,
   "id": "ancient-guess",
   "metadata": {},
   "outputs": [],
   "source": [
    "# It is categorical.\n",
    "categorical['GEOCODE2'].value_counts(dropna=False)\n",
    "categorical['GEOCODE2'] = categorical['GEOCODE2'].fillna('A')"
   ]
  },
  {
   "cell_type": "markdown",
   "id": "strategic-influence",
   "metadata": {},
   "source": [
    "### 2.2 WEALTH1 cleaning."
   ]
  },
  {
   "cell_type": "code",
   "execution_count": 134,
   "id": "deluxe-allowance",
   "metadata": {},
   "outputs": [
    {
     "data": {
      "text/plain": [
       "NaN    44732\n",
       "9.0     7585\n",
       "8.0     6793\n",
       "7.0     6198\n",
       "6.0     5825\n",
       "5.0     5280\n",
       "4.0     4810\n",
       "3.0     4237\n",
       "2.0     4085\n",
       "1.0     3454\n",
       "0.0     2413\n",
       "Name: WEALTH1, dtype: int64"
      ]
     },
     "execution_count": 134,
     "metadata": {},
     "output_type": "execute_result"
    }
   ],
   "source": [
    "# There are too many nan values.\n",
    "numerical['WEALTH1'].value_counts(dropna=False)"
   ]
  },
  {
   "cell_type": "code",
   "execution_count": 135,
   "id": "comparative-landscape",
   "metadata": {},
   "outputs": [],
   "source": [
    "# To remove all numerical columns with nan values.\n",
    "nulls_percent = pd.DataFrame((numerical.isna().sum()/len(numerical)).reset_index())\n",
    "nulls_percent.columns = ['column','%nan']\n",
    "columns_nan = list(nulls_percent[nulls_percent['%nan']!=0]['column'])\n",
    "columns_nan.remove('WEALTH1')\n",
    "numerical1 = numerical.drop(columns_nan,axis=1)"
   ]
  },
  {
   "cell_type": "code",
   "execution_count": 136,
   "id": "behavioral-junior",
   "metadata": {
    "scrolled": true
   },
   "outputs": [],
   "source": [
    "# We will take all raws with no nan values.\n",
    "numericals_with_wealth = numerical1[numerical1['WEALTH1'].notna()]"
   ]
  },
  {
   "cell_type": "code",
   "execution_count": 137,
   "id": "former-heater",
   "metadata": {},
   "outputs": [],
   "source": [
    "#I will try KNN to predict wealth2:\n",
    "\n",
    "y = numericals_with_wealth['WEALTH1']\n",
    "X = numericals_with_wealth.drop(['WEALTH1'],axis=1) #I should also drop the real target"
   ]
  },
  {
   "cell_type": "code",
   "execution_count": 138,
   "id": "standing-reporter",
   "metadata": {},
   "outputs": [],
   "source": [
    "from sklearn.neighbors import KNeighborsClassifier\n",
    "from sklearn.preprocessing import MinMaxScaler"
   ]
  },
  {
   "cell_type": "code",
   "execution_count": 139,
   "id": "about-football",
   "metadata": {},
   "outputs": [],
   "source": [
    "X_normalized = pd.DataFrame(MinMaxScaler().fit_transform(X), columns=X.columns)"
   ]
  },
  {
   "cell_type": "code",
   "execution_count": 140,
   "id": "aerial-carolina",
   "metadata": {},
   "outputs": [
    {
     "data": {
      "text/plain": [
       "0.6648973954222573"
      ]
     },
     "execution_count": 140,
     "metadata": {},
     "output_type": "execute_result"
    }
   ],
   "source": [
    "KNN = KNeighborsClassifier(n_neighbors=3)\n",
    "KNN.fit(X_normalized,y)\n",
    "KNN.score(X_normalized,y)"
   ]
  },
  {
   "cell_type": "code",
   "execution_count": 141,
   "id": "corresponding-hartford",
   "metadata": {},
   "outputs": [],
   "source": [
    "# To predict the WEALTH1 again.\n",
    "X = numerical1.drop(['WEALTH1'],axis=1)\n",
    "X_normalized = pd.DataFrame(MinMaxScaler().fit_transform(X), columns=X.columns)"
   ]
  },
  {
   "cell_type": "code",
   "execution_count": 142,
   "id": "geographic-mission",
   "metadata": {},
   "outputs": [],
   "source": [
    "predicted_WEALTH1 = pd.Series(KNN.predict(X_normalized),name='predicted_WEALTH1')"
   ]
  },
  {
   "cell_type": "code",
   "execution_count": 143,
   "id": "absolute-pound",
   "metadata": {},
   "outputs": [],
   "source": [
    "numerical = pd.concat([numerical,predicted_WEALTH1],axis=1)"
   ]
  },
  {
   "cell_type": "code",
   "execution_count": 144,
   "id": "animal-genetics",
   "metadata": {},
   "outputs": [],
   "source": [
    "numerical['final_WEALTH1'] =  np.where(numerical['WEALTH1'].isna(), numerical['predicted_WEALTH1'], numerical['WEALTH1'])"
   ]
  },
  {
   "cell_type": "code",
   "execution_count": 145,
   "id": "molecular-month",
   "metadata": {},
   "outputs": [],
   "source": [
    "numerical = numerical.drop(['predicted_WEALTH1'],axis=1)"
   ]
  },
  {
   "cell_type": "code",
   "execution_count": 146,
   "id": "confident-bailey",
   "metadata": {},
   "outputs": [
    {
     "name": "stderr",
     "output_type": "stream",
     "text": [
      "/usr/local/Cellar/jupyterlab/3.0.9/libexec/lib/python3.9/site-packages/seaborn/distributions.py:2557: FutureWarning: `distplot` is a deprecated function and will be removed in a future version. Please adapt your code to use either `displot` (a figure-level function with similar flexibility) or `histplot` (an axes-level function for histograms).\n",
      "  warnings.warn(msg, FutureWarning)\n"
     ]
    },
    {
     "data": {
      "image/png": "[encoded data removed]",
      "text/plain": [
       "<Figure size 432x288 with 1 Axes>"
      ]
     },
     "metadata": {
      "needs_background": "light"
     },
     "output_type": "display_data"
    },
    {
     "name": "stderr",
     "output_type": "stream",
     "text": [
      "/usr/local/Cellar/jupyterlab/3.0.9/libexec/lib/python3.9/site-packages/seaborn/distributions.py:2557: FutureWarning: `distplot` is a deprecated function and will be removed in a future version. Please adapt your code to use either `displot` (a figure-level function with similar flexibility) or `histplot` (an axes-level function for histograms).\n",
      "  warnings.warn(msg, FutureWarning)\n"
     ]
    },
    {
     "data": {
      "image/png": "[encoded data removed]",
      "text/plain": [
       "<Figure size 432x288 with 1 Axes>"
      ]
     },
     "metadata": {
      "needs_background": "light"
     },
     "output_type": "display_data"
    },
    {
     "name": "stderr",
     "output_type": "stream",
     "text": [
      "/usr/local/Cellar/jupyterlab/3.0.9/libexec/lib/python3.9/site-packages/seaborn/distributions.py:2557: FutureWarning: `distplot` is a deprecated function and will be removed in a future version. Please adapt your code to use either `displot` (a figure-level function with similar flexibility) or `histplot` (an axes-level function for histograms).\n",
      "  warnings.warn(msg, FutureWarning)\n"
     ]
    },
    {
     "data": {
      "image/png": "[encoded data removed]",
      "text/plain": [
       "<Figure size 432x288 with 1 Axes>"
      ]
     },
     "metadata": {
      "needs_background": "light"
     },
     "output_type": "display_data"
    }
   ],
   "source": [
    "plt.show(sns.distplot(numerical[numerical['WEALTH1'].isna()== False]['WEALTH1']))\n",
    "plt.show(sns.distplot(numerical['WEALTH1']))\n",
    "plt.show(sns.distplot(numerical['final_WEALTH1']))"
   ]
  },
  {
   "cell_type": "markdown",
   "id": "hydraulic-balance",
   "metadata": {},
   "source": [
    "### 2.2 ADI cleaning."
   ]
  },
  {
   "cell_type": "code",
   "execution_count": 151,
   "id": "resident-water",
   "metadata": {},
   "outputs": [
    {
     "data": {
      "text/plain": [
       "13.0     7296\n",
       "51.0     4622\n",
       "65.0     3765\n",
       "57.0     2836\n",
       "105.0    2617\n",
       "         ... \n",
       "651.0       1\n",
       "161.0       1\n",
       "103.0       1\n",
       "147.0       1\n",
       "601.0       1\n",
       "Name: ADI, Length: 205, dtype: int64"
      ]
     },
     "metadata": {},
     "output_type": "display_data"
    }
   ],
   "source": [
    "display(numerical['ADI'].value_counts(dropna=False))\n",
    "numerical['ADI'] = numerical['ADI'].fillna(round(np.mean(numerical['CLUSTER2']),0))"
   ]
  },
  {
   "cell_type": "markdown",
   "id": "labeled-queue",
   "metadata": {},
   "source": [
    "### 2.3 DMA cleaning."
   ]
  },
  {
   "cell_type": "code",
   "execution_count": 152,
   "id": "diverse-publisher",
   "metadata": {},
   "outputs": [
    {
     "data": {
      "text/plain": [
       "803.0    7296\n",
       "602.0    4632\n",
       "807.0    3765\n",
       "505.0    2839\n",
       "819.0    2588\n",
       "         ... \n",
       "569.0       1\n",
       "516.0       1\n",
       "552.0       1\n",
       "554.0       1\n",
       "584.0       1\n",
       "Name: DMA, Length: 206, dtype: int64"
      ]
     },
     "metadata": {},
     "output_type": "display_data"
    }
   ],
   "source": [
    "display(numerical['DMA'].value_counts())\n",
    "numerical['ADI'] = numerical['ADI'].fillna(round(np.median(numerical['ADI']),0))"
   ]
  },
  {
   "cell_type": "markdown",
   "id": "wicked-final",
   "metadata": {},
   "source": [
    "### 2.4 MSA cleaning."
   ]
  },
  {
   "cell_type": "code",
   "execution_count": 149,
   "id": "automotive-chapel",
   "metadata": {
    "scrolled": true
   },
   "outputs": [
    {
     "data": {
      "text/plain": [
       "0.0       21333\n",
       "4480.0     4606\n",
       "1600.0     4059\n",
       "2160.0     2586\n",
       "520.0      1685\n",
       "          ...  \n",
       "2975.0        1\n",
       "9140.0        1\n",
       "9280.0        1\n",
       "960.0         1\n",
       "1320.0        1\n",
       "Name: MSA, Length: 299, dtype: int64"
      ]
     },
     "metadata": {},
     "output_type": "display_data"
    }
   ],
   "source": [
    "display(numerical['MSA'].value_counts(dropna=False))\n",
    "numerical['MSA'] = numerical['MSA'].fillna(0)"
   ]
  },
  {
   "cell_type": "markdown",
   "id": "legitimate-tissue",
   "metadata": {},
   "source": [
    "### 2.5 numerical cleaning."
   ]
  },
  {
   "cell_type": "code",
   "execution_count": 150,
   "id": "weird-intervention",
   "metadata": {},
   "outputs": [],
   "source": [
    "numerical.to_csv('numerical')\n",
    "categorical.to_csv('categorical')\n",
    "Y.to_csv('Y')"
   ]
  }
 ],
 "metadata": {
  "kernelspec": {
   "display_name": "Python 3",
   "language": "python",
   "name": "python3"
  },
  "language_info": {
   "codemirror_mode": {
    "name": "ipython",
    "version": 3
   },
   "file_extension": ".py",
   "mimetype": "text/x-python",
   "name": "python",
   "nbconvert_exporter": "python",
   "pygments_lexer": "ipython3",
   "version": "3.9.2"
  }
 },
 "nbformat": 4,
 "nbformat_minor": 5
}
