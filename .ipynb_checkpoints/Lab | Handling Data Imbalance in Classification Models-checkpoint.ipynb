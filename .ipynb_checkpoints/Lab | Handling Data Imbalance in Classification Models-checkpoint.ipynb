{
 "cells": [
  {
   "cell_type": "markdown",
   "id": "reported-insulin",
   "metadata": {},
   "source": [
    "## 1. Import the required libraries and modules that you would need."
   ]
  },
  {
   "cell_type": "code",
   "execution_count": 105,
   "id": "statewide-andrew",
   "metadata": {},
   "outputs": [],
   "source": [
    "import pandas as pd\n",
    "import numpy as np\n",
    "import statsmodels.api as sm"
   ]
  },
  {
   "cell_type": "markdown",
   "id": "three-officer",
   "metadata": {},
   "source": [
    "## 2. Read that data into Python and call the dataframe churnData."
   ]
  },
  {
   "cell_type": "code",
   "execution_count": 106,
   "id": "rough-office",
   "metadata": {},
   "outputs": [
    {
     "data": {
      "text/html": [
       "<div>\n",
       "<style scoped>\n",
       "    .dataframe tbody tr th:only-of-type {\n",
       "        vertical-align: middle;\n",
       "    }\n",
       "\n",
       "    .dataframe tbody tr th {\n",
       "        vertical-align: top;\n",
       "    }\n",
       "\n",
       "    .dataframe thead th {\n",
       "        text-align: right;\n",
       "    }\n",
       "</style>\n",
       "<table border=\"1\" class=\"dataframe\">\n",
       "  <thead>\n",
       "    <tr style=\"text-align: right;\">\n",
       "      <th></th>\n",
       "      <th>gender</th>\n",
       "      <th>SeniorCitizen</th>\n",
       "      <th>Partner</th>\n",
       "      <th>Dependents</th>\n",
       "      <th>tenure</th>\n",
       "      <th>PhoneService</th>\n",
       "      <th>OnlineSecurity</th>\n",
       "      <th>OnlineBackup</th>\n",
       "      <th>DeviceProtection</th>\n",
       "      <th>TechSupport</th>\n",
       "      <th>StreamingTV</th>\n",
       "      <th>StreamingMovies</th>\n",
       "      <th>Contract</th>\n",
       "      <th>MonthlyCharges</th>\n",
       "      <th>TotalCharges</th>\n",
       "      <th>Churn</th>\n",
       "    </tr>\n",
       "  </thead>\n",
       "  <tbody>\n",
       "    <tr>\n",
       "      <th>0</th>\n",
       "      <td>Female</td>\n",
       "      <td>0</td>\n",
       "      <td>Yes</td>\n",
       "      <td>No</td>\n",
       "      <td>1</td>\n",
       "      <td>No</td>\n",
       "      <td>No</td>\n",
       "      <td>Yes</td>\n",
       "      <td>No</td>\n",
       "      <td>No</td>\n",
       "      <td>No</td>\n",
       "      <td>No</td>\n",
       "      <td>Month-to-month</td>\n",
       "      <td>29.85</td>\n",
       "      <td>29.85</td>\n",
       "      <td>No</td>\n",
       "    </tr>\n",
       "    <tr>\n",
       "      <th>1</th>\n",
       "      <td>Male</td>\n",
       "      <td>0</td>\n",
       "      <td>No</td>\n",
       "      <td>No</td>\n",
       "      <td>34</td>\n",
       "      <td>Yes</td>\n",
       "      <td>Yes</td>\n",
       "      <td>No</td>\n",
       "      <td>Yes</td>\n",
       "      <td>No</td>\n",
       "      <td>No</td>\n",
       "      <td>No</td>\n",
       "      <td>One year</td>\n",
       "      <td>56.95</td>\n",
       "      <td>1889.5</td>\n",
       "      <td>No</td>\n",
       "    </tr>\n",
       "    <tr>\n",
       "      <th>2</th>\n",
       "      <td>Male</td>\n",
       "      <td>0</td>\n",
       "      <td>No</td>\n",
       "      <td>No</td>\n",
       "      <td>2</td>\n",
       "      <td>Yes</td>\n",
       "      <td>Yes</td>\n",
       "      <td>Yes</td>\n",
       "      <td>No</td>\n",
       "      <td>No</td>\n",
       "      <td>No</td>\n",
       "      <td>No</td>\n",
       "      <td>Month-to-month</td>\n",
       "      <td>53.85</td>\n",
       "      <td>108.15</td>\n",
       "      <td>Yes</td>\n",
       "    </tr>\n",
       "  </tbody>\n",
       "</table>\n",
       "</div>"
      ],
      "text/plain": [
       "   gender  SeniorCitizen Partner Dependents  tenure PhoneService  \\\n",
       "0  Female              0     Yes         No       1           No   \n",
       "1    Male              0      No         No      34          Yes   \n",
       "2    Male              0      No         No       2          Yes   \n",
       "\n",
       "  OnlineSecurity OnlineBackup DeviceProtection TechSupport StreamingTV  \\\n",
       "0             No          Yes               No          No          No   \n",
       "1            Yes           No              Yes          No          No   \n",
       "2            Yes          Yes               No          No          No   \n",
       "\n",
       "  StreamingMovies        Contract  MonthlyCharges TotalCharges Churn  \n",
       "0              No  Month-to-month           29.85        29.85    No  \n",
       "1              No        One year           56.95       1889.5    No  \n",
       "2              No  Month-to-month           53.85       108.15   Yes  "
      ]
     },
     "execution_count": 106,
     "metadata": {},
     "output_type": "execute_result"
    }
   ],
   "source": [
    "churndData = pd.read_csv('files_for_lab/Customer-Churn.csv')\n",
    "churndData.head(3)"
   ]
  },
  {
   "cell_type": "markdown",
   "id": "second-automation",
   "metadata": {},
   "source": [
    "## 3. Check the datatypes of all the columns in the data. You would see that the column TotalCharges is object type."
   ]
  },
  {
   "cell_type": "code",
   "execution_count": 107,
   "id": "speaking-mistake",
   "metadata": {},
   "outputs": [
    {
     "data": {
      "text/plain": [
       "gender               object\n",
       "SeniorCitizen         int64\n",
       "Partner              object\n",
       "Dependents           object\n",
       "tenure                int64\n",
       "PhoneService         object\n",
       "OnlineSecurity       object\n",
       "OnlineBackup         object\n",
       "DeviceProtection     object\n",
       "TechSupport          object\n",
       "StreamingTV          object\n",
       "StreamingMovies      object\n",
       "Contract             object\n",
       "MonthlyCharges      float64\n",
       "TotalCharges         object\n",
       "Churn                object\n",
       "dtype: object"
      ]
     },
     "execution_count": 107,
     "metadata": {},
     "output_type": "execute_result"
    }
   ],
   "source": [
    "churndData.dtypes"
   ]
  },
  {
   "cell_type": "code",
   "execution_count": 108,
   "id": "authentic-tissue",
   "metadata": {},
   "outputs": [],
   "source": [
    "churndData['TotalCharges'] = pd.DataFrame(list(map(lambda x: x.replace(' ','0'),churndData['TotalCharges'])))"
   ]
  },
  {
   "cell_type": "code",
   "execution_count": 109,
   "id": "raised-sport",
   "metadata": {},
   "outputs": [],
   "source": [
    "churndData['TotalCharges'] = pd.to_numeric(churndData['TotalCharges'])"
   ]
  },
  {
   "cell_type": "markdown",
   "id": "unnecessary-cannon",
   "metadata": {},
   "source": [
    "## 4.Check for null values in the dataframe. Replace the null values."
   ]
  },
  {
   "cell_type": "code",
   "execution_count": 110,
   "id": "sunset-general",
   "metadata": {},
   "outputs": [
    {
     "data": {
      "text/plain": [
       "gender              0\n",
       "SeniorCitizen       0\n",
       "Partner             0\n",
       "Dependents          0\n",
       "tenure              0\n",
       "PhoneService        0\n",
       "OnlineSecurity      0\n",
       "OnlineBackup        0\n",
       "DeviceProtection    0\n",
       "TechSupport         0\n",
       "StreamingTV         0\n",
       "StreamingMovies     0\n",
       "Contract            0\n",
       "MonthlyCharges      0\n",
       "TotalCharges        0\n",
       "Churn               0\n",
       "dtype: int64"
      ]
     },
     "execution_count": 110,
     "metadata": {},
     "output_type": "execute_result"
    }
   ],
   "source": [
    "# There are not nan values.\n",
    "churndData.isna().sum()"
   ]
  },
  {
   "cell_type": "markdown",
   "id": "unable-crack",
   "metadata": {},
   "source": [
    "## 5. Use the following features:"
   ]
  },
  {
   "cell_type": "code",
   "execution_count": 111,
   "id": "serial-benchmark",
   "metadata": {},
   "outputs": [],
   "source": [
    "features = churndData[['tenure','SeniorCitizen','MonthlyCharges','TotalCharges']]\n",
    "Y = churndData['Churn']"
   ]
  },
  {
   "cell_type": "code",
   "execution_count": 112,
   "id": "guided-oriental",
   "metadata": {
    "scrolled": false
   },
   "outputs": [
    {
     "data": {
      "text/html": [
       "<div>\n",
       "<style scoped>\n",
       "    .dataframe tbody tr th:only-of-type {\n",
       "        vertical-align: middle;\n",
       "    }\n",
       "\n",
       "    .dataframe tbody tr th {\n",
       "        vertical-align: top;\n",
       "    }\n",
       "\n",
       "    .dataframe thead th {\n",
       "        text-align: right;\n",
       "    }\n",
       "</style>\n",
       "<table border=\"1\" class=\"dataframe\">\n",
       "  <thead>\n",
       "    <tr style=\"text-align: right;\">\n",
       "      <th></th>\n",
       "      <th>tenure</th>\n",
       "      <th>SeniorCitizen</th>\n",
       "      <th>MonthlyCharges</th>\n",
       "      <th>TotalCharges</th>\n",
       "    </tr>\n",
       "  </thead>\n",
       "  <tbody>\n",
       "    <tr>\n",
       "      <th>0</th>\n",
       "      <td>1</td>\n",
       "      <td>0</td>\n",
       "      <td>29.85</td>\n",
       "      <td>29.85</td>\n",
       "    </tr>\n",
       "    <tr>\n",
       "      <th>1</th>\n",
       "      <td>34</td>\n",
       "      <td>0</td>\n",
       "      <td>56.95</td>\n",
       "      <td>1889.50</td>\n",
       "    </tr>\n",
       "    <tr>\n",
       "      <th>2</th>\n",
       "      <td>2</td>\n",
       "      <td>0</td>\n",
       "      <td>53.85</td>\n",
       "      <td>108.15</td>\n",
       "    </tr>\n",
       "    <tr>\n",
       "      <th>3</th>\n",
       "      <td>45</td>\n",
       "      <td>0</td>\n",
       "      <td>42.30</td>\n",
       "      <td>1840.75</td>\n",
       "    </tr>\n",
       "    <tr>\n",
       "      <th>4</th>\n",
       "      <td>2</td>\n",
       "      <td>0</td>\n",
       "      <td>70.70</td>\n",
       "      <td>151.65</td>\n",
       "    </tr>\n",
       "  </tbody>\n",
       "</table>\n",
       "</div>"
      ],
      "text/plain": [
       "   tenure  SeniorCitizen  MonthlyCharges  TotalCharges\n",
       "0       1              0           29.85         29.85\n",
       "1      34              0           56.95       1889.50\n",
       "2       2              0           53.85        108.15\n",
       "3      45              0           42.30       1840.75\n",
       "4       2              0           70.70        151.65"
      ]
     },
     "execution_count": 112,
     "metadata": {},
     "output_type": "execute_result"
    }
   ],
   "source": [
    "features.head()"
   ]
  },
  {
   "cell_type": "code",
   "execution_count": 113,
   "id": "overhead-report",
   "metadata": {},
   "outputs": [],
   "source": [
    "# Scale the features either by using normalizer or a standard scaler.\n",
    "from sklearn.preprocessing import MinMaxScaler\n",
    "scaler = MinMaxScaler()\n",
    "features_scaled = scaler.fit_transform(features) "
   ]
  },
  {
   "cell_type": "code",
   "execution_count": 114,
   "id": "initial-serve",
   "metadata": {},
   "outputs": [],
   "source": [
    "# Split the data into a training set and a test set.\n",
    "from sklearn.model_selection import train_test_split\n",
    "X_train, X_test, y_train, y_test = train_test_split(features,Y, random_state=0)"
   ]
  },
  {
   "cell_type": "code",
   "execution_count": 115,
   "id": "strong-disco",
   "metadata": {},
   "outputs": [],
   "source": [
    "# Fit a logistic regression model on the training data\n",
    "from sklearn.linear_model import LogisticRegression\n",
    "classification = LogisticRegression(random_state=0, solver='lbfgs',\n",
    "                  multi_class='ovr').fit(X_train, y_train)"
   ]
  },
  {
   "cell_type": "code",
   "execution_count": 116,
   "id": "prescribed-korea",
   "metadata": {},
   "outputs": [
    {
     "data": {
      "text/plain": [
       "0.7830777967064169"
      ]
     },
     "execution_count": 116,
     "metadata": {},
     "output_type": "execute_result"
    }
   ],
   "source": [
    "# Check the accuracy on the test data.\n",
    "predictions = classification.predict(X_test)\n",
    "churndData_raw = classification.score(X_test, y_test)\n",
    "churndData_raw"
   ]
  },
  {
   "cell_type": "markdown",
   "id": "impressive-rough",
   "metadata": {},
   "source": [
    "## 6. Managing imbalance in the dataset"
   ]
  },
  {
   "cell_type": "code",
   "execution_count": 117,
   "id": "valuable-responsibility",
   "metadata": {},
   "outputs": [
    {
     "data": {
      "text/plain": [
       "No     5174\n",
       "Yes    1869\n",
       "Name: Churn, dtype: int64"
      ]
     },
     "execution_count": 117,
     "metadata": {},
     "output_type": "execute_result"
    }
   ],
   "source": [
    "churndData['Churn'].value_counts()"
   ]
  },
  {
   "cell_type": "markdown",
   "id": "unavailable-stick",
   "metadata": {},
   "source": [
    "## 7. Use the resampling strategies used in class for upsampling and downsampling to create a balance between the two classes."
   ]
  },
  {
   "cell_type": "code",
   "execution_count": 118,
   "id": "addressed-blues",
   "metadata": {},
   "outputs": [],
   "source": [
    "from sklearn.utils import resample\n",
    "\n",
    "category_N = churndData[churndData['Churn'] == 'No']\n",
    "category_Y = churndData[churndData['Churn'] == 'Yes']"
   ]
  },
  {
   "cell_type": "code",
   "execution_count": 119,
   "id": "resident-mainland",
   "metadata": {},
   "outputs": [],
   "source": [
    "# Downsampling\n",
    "category_N_undersampled = resample(category_N, \n",
    "                                   replace=False, \n",
    "                                   n_samples = len(category_Y))"
   ]
  },
  {
   "cell_type": "code",
   "execution_count": 120,
   "id": "economic-parliament",
   "metadata": {},
   "outputs": [
    {
     "name": "stdout",
     "output_type": "stream",
     "text": [
      "(1869, 16)\n",
      "(1869, 16)\n"
     ]
    }
   ],
   "source": [
    "print(category_N_undersampled.shape)\n",
    "print(category_Y.shape)"
   ]
  },
  {
   "cell_type": "code",
   "execution_count": 121,
   "id": "curious-entrepreneur",
   "metadata": {},
   "outputs": [],
   "source": [
    "data_downsampled = pd.concat([category_N_undersampled, category_Y], axis=0)"
   ]
  },
  {
   "cell_type": "code",
   "execution_count": 122,
   "id": "floral-arlington",
   "metadata": {},
   "outputs": [],
   "source": [
    "# Upsampling\n",
    "category_Y_oversampled = resample(category_Y, \n",
    "                                  replace=True, \n",
    "                                  n_samples = len(category_N))"
   ]
  },
  {
   "cell_type": "code",
   "execution_count": 123,
   "id": "infectious-civilian",
   "metadata": {},
   "outputs": [
    {
     "name": "stdout",
     "output_type": "stream",
     "text": [
      "(5174, 16)\n",
      "(5174, 16)\n"
     ]
    }
   ],
   "source": [
    "print(category_Y_oversampled.shape)\n",
    "print(category_N.shape)"
   ]
  },
  {
   "cell_type": "code",
   "execution_count": 124,
   "id": "increased-brazilian",
   "metadata": {},
   "outputs": [],
   "source": [
    "data_upsampled = pd.concat([category_N, category_Y_oversampled], axis=0)"
   ]
  },
  {
   "cell_type": "markdown",
   "id": "fabulous-perspective",
   "metadata": {},
   "source": [
    "## 8. Each time fit the model and see how the accuracy of the model is."
   ]
  },
  {
   "cell_type": "markdown",
   "id": "optical-bracelet",
   "metadata": {},
   "source": [
    "Downsampling data"
   ]
  },
  {
   "cell_type": "code",
   "execution_count": 125,
   "id": "female-skating",
   "metadata": {},
   "outputs": [],
   "source": [
    "Y = data_downsampled['Churn']\n",
    "data_downsampled = data_downsampled[['tenure','SeniorCitizen','MonthlyCharges','TotalCharges']]"
   ]
  },
  {
   "cell_type": "code",
   "execution_count": 126,
   "id": "moved-owner",
   "metadata": {},
   "outputs": [],
   "source": [
    "scaler = MinMaxScaler()\n",
    "data_downsampled_scaled = scaler.fit_transform(data_downsampled) "
   ]
  },
  {
   "cell_type": "code",
   "execution_count": 127,
   "id": "solved-depression",
   "metadata": {},
   "outputs": [],
   "source": [
    "X_train, X_test, y_train, y_test = train_test_split(data_downsampled_scaled,Y, random_state=0)"
   ]
  },
  {
   "cell_type": "code",
   "execution_count": 128,
   "id": "coordinate-joseph",
   "metadata": {},
   "outputs": [],
   "source": [
    "classification = LogisticRegression(random_state=0, solver='lbfgs',\n",
    "                  multi_class='ovr').fit(X_train, y_train)"
   ]
  },
  {
   "cell_type": "code",
   "execution_count": 129,
   "id": "cross-robin",
   "metadata": {},
   "outputs": [
    {
     "data": {
      "text/plain": [
       "0.7037433155080214"
      ]
     },
     "execution_count": 129,
     "metadata": {},
     "output_type": "execute_result"
    }
   ],
   "source": [
    "predictions = classification.predict(X_test)\n",
    "churndData_down = classification.score(X_test, y_test)\n",
    "churndData_down"
   ]
  },
  {
   "cell_type": "markdown",
   "id": "tropical-facial",
   "metadata": {},
   "source": [
    "Upsampling data"
   ]
  },
  {
   "cell_type": "code",
   "execution_count": null,
   "id": "solid-clearance",
   "metadata": {},
   "outputs": [],
   "source": []
  },
  {
   "cell_type": "code",
   "execution_count": 130,
   "id": "heated-intro",
   "metadata": {},
   "outputs": [],
   "source": [
    "Y = data_upsampled['Churn']\n",
    "data_upsampled = data_upsampled[['tenure','SeniorCitizen','MonthlyCharges','TotalCharges']]"
   ]
  },
  {
   "cell_type": "code",
   "execution_count": 131,
   "id": "outstanding-september",
   "metadata": {},
   "outputs": [],
   "source": [
    "scaler = MinMaxScaler()\n",
    "data_upsampled_scaled = scaler.fit_transform(data_upsampled) "
   ]
  },
  {
   "cell_type": "code",
   "execution_count": 132,
   "id": "inappropriate-physiology",
   "metadata": {},
   "outputs": [],
   "source": [
    "X_train, X_test, y_train, y_test = train_test_split(data_upsampled_scaled,Y, random_state=0)"
   ]
  },
  {
   "cell_type": "code",
   "execution_count": 133,
   "id": "changing-inside",
   "metadata": {},
   "outputs": [],
   "source": [
    "classification = LogisticRegression(random_state=0, solver='lbfgs',\n",
    "                  multi_class='ovr').fit(X_train, y_train)"
   ]
  },
  {
   "cell_type": "code",
   "execution_count": 134,
   "id": "fixed-praise",
   "metadata": {},
   "outputs": [
    {
     "data": {
      "text/plain": [
       "0.7313490529570932"
      ]
     },
     "execution_count": 134,
     "metadata": {},
     "output_type": "execute_result"
    }
   ],
   "source": [
    "predictions = classification.predict(X_test)\n",
    "churndData_up = classification.score(X_test, y_test)\n",
    "churndData_up"
   ]
  },
  {
   "cell_type": "markdown",
   "id": "accessible-genre",
   "metadata": {},
   "source": [
    "## Summary"
   ]
  },
  {
   "cell_type": "code",
   "execution_count": 135,
   "id": "valid-newman",
   "metadata": {},
   "outputs": [
    {
     "data": {
      "text/html": [
       "<div>\n",
       "<style scoped>\n",
       "    .dataframe tbody tr th:only-of-type {\n",
       "        vertical-align: middle;\n",
       "    }\n",
       "\n",
       "    .dataframe tbody tr th {\n",
       "        vertical-align: top;\n",
       "    }\n",
       "\n",
       "    .dataframe thead th {\n",
       "        text-align: right;\n",
       "    }\n",
       "</style>\n",
       "<table border=\"1\" class=\"dataframe\">\n",
       "  <thead>\n",
       "    <tr style=\"text-align: right;\">\n",
       "      <th></th>\n",
       "      <th>Raw data</th>\n",
       "      <th>Downsampled data</th>\n",
       "      <th>Upsampled data</th>\n",
       "    </tr>\n",
       "  </thead>\n",
       "  <tbody>\n",
       "    <tr>\n",
       "      <th>0</th>\n",
       "      <td>0.783078</td>\n",
       "      <td>0.703743</td>\n",
       "      <td>0.731349</td>\n",
       "    </tr>\n",
       "  </tbody>\n",
       "</table>\n",
       "</div>"
      ],
      "text/plain": [
       "   Raw data  Downsampled data  Upsampled data\n",
       "0  0.783078          0.703743        0.731349"
      ]
     },
     "execution_count": 135,
     "metadata": {},
     "output_type": "execute_result"
    }
   ],
   "source": [
    "pd.DataFrame([[churndData_raw,churndData_down,churndData_up]], columns = ['Raw data','Downsampled data','Upsampled data'])"
   ]
  },
  {
   "cell_type": "markdown",
   "id": "abstract-victory",
   "metadata": {},
   "source": [
    "So in this case it does not make too much sense to resample the data, probably because there is not too much invalance in the target variable"
   ]
  }
 ],
 "metadata": {
  "kernelspec": {
   "display_name": "Python 3",
   "language": "python",
   "name": "python3"
  },
  "language_info": {
   "codemirror_mode": {
    "name": "ipython",
    "version": 3
   },
   "file_extension": ".py",
   "mimetype": "text/x-python",
   "name": "python",
   "nbconvert_exporter": "python",
   "pygments_lexer": "ipython3",
   "version": "3.9.2"
  }
 },
 "nbformat": 4,
 "nbformat_minor": 5
}
